{
 "cells": [
  {
   "cell_type": "code",
   "execution_count": 1,
   "id": "6b9ecca1",
   "metadata": {},
   "outputs": [],
   "source": [
    "from agent import ReflectionAgent"
   ]
  },
  {
   "cell_type": "code",
   "execution_count": 2,
   "id": "e441005b",
   "metadata": {},
   "outputs": [],
   "source": [
    "agent = ReflectionAgent(save_logs=True)"
   ]
  },
  {
   "cell_type": "code",
   "execution_count": 3,
   "id": "7d1698e2",
   "metadata": {},
   "outputs": [],
   "source": [
    "generation_system_prompt = \"You are a Python programmer tasked with generating high quality Python code\"\n",
    "\n",
    "reflection_system_prompt = \"You are Andrej Karpathy, an experienced computer scientist\"\n",
    "\n",
    "user_msg = \"Generate a Python implementation of byte pair encoding for tokenization\""
   ]
  },
  {
   "cell_type": "code",
   "execution_count": 4,
   "id": "5608135f",
   "metadata": {},
   "outputs": [
    {
     "name": "stdout",
     "output_type": "stream",
     "text": [
      "\u001b[2m2025-06-09 01:56:01\u001b[0m [\u001b[32m\u001b[1minfo     \u001b[0m] \u001b[1mrollout_log_saved             \u001b[0m \u001b[36mpath\u001b[0m=\u001b[35mlogs/rollout_20250609_015601.log\u001b[0m\n"
     ]
    }
   ],
   "source": [
    "final_response = agent.run(\n",
    "    user_message=user_msg,\n",
    "    steps=5,\n",
    "    generation_prompt=generation_system_prompt,\n",
    "    reflection_prompt=reflection_system_prompt,\n",
    ")"
   ]
  },
  {
   "cell_type": "code",
   "execution_count": null,
   "id": "b3322289",
   "metadata": {},
   "outputs": [],
   "source": []
  }
 ],
 "metadata": {
  "kernelspec": {
   "display_name": "agentic_env",
   "language": "python",
   "name": "agentic_env"
  },
  "language_info": {
   "codemirror_mode": {
    "name": "ipython",
    "version": 3
   },
   "file_extension": ".py",
   "mimetype": "text/x-python",
   "name": "python",
   "nbconvert_exporter": "python",
   "pygments_lexer": "ipython3",
   "version": "3.13.3"
  }
 },
 "nbformat": 4,
 "nbformat_minor": 5
}
